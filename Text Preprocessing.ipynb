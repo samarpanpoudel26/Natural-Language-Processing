{
 "cells": [
  {
   "cell_type": "code",
   "execution_count": 1,
   "id": "4d0990eb-dfcc-4a35-abd9-78525780bc2f",
   "metadata": {},
   "outputs": [],
   "source": [
    "import numpy as np\n",
    "import pandas as pd"
   ]
  },
  {
   "cell_type": "code",
   "execution_count": 2,
   "id": "d0d2a112-c8e4-4671-a0e5-a4e309d90d26",
   "metadata": {},
   "outputs": [],
   "source": [
    "dataset=pd.read_csv(\"IMDB Dataset.csv\")"
   ]
  },
  {
   "cell_type": "code",
   "execution_count": 3,
   "id": "1abc4d0a-e6fc-4fb1-a3f0-1dd67ba19316",
   "metadata": {},
   "outputs": [
    {
     "data": {
      "text/html": [
       "<div>\n",
       "<style scoped>\n",
       "    .dataframe tbody tr th:only-of-type {\n",
       "        vertical-align: middle;\n",
       "    }\n",
       "\n",
       "    .dataframe tbody tr th {\n",
       "        vertical-align: top;\n",
       "    }\n",
       "\n",
       "    .dataframe thead th {\n",
       "        text-align: right;\n",
       "    }\n",
       "</style>\n",
       "<table border=\"1\" class=\"dataframe\">\n",
       "  <thead>\n",
       "    <tr style=\"text-align: right;\">\n",
       "      <th></th>\n",
       "      <th>review</th>\n",
       "      <th>sentiment</th>\n",
       "    </tr>\n",
       "  </thead>\n",
       "  <tbody>\n",
       "    <tr>\n",
       "      <th>0</th>\n",
       "      <td>One of the other reviewers has mentioned that ...</td>\n",
       "      <td>positive</td>\n",
       "    </tr>\n",
       "    <tr>\n",
       "      <th>1</th>\n",
       "      <td>A wonderful little production. &lt;br /&gt;&lt;br /&gt;The...</td>\n",
       "      <td>positive</td>\n",
       "    </tr>\n",
       "    <tr>\n",
       "      <th>2</th>\n",
       "      <td>I thought this was a wonderful way to spend ti...</td>\n",
       "      <td>positive</td>\n",
       "    </tr>\n",
       "    <tr>\n",
       "      <th>3</th>\n",
       "      <td>Basically there's a family where a little boy ...</td>\n",
       "      <td>negative</td>\n",
       "    </tr>\n",
       "    <tr>\n",
       "      <th>4</th>\n",
       "      <td>Petter Mattei's \"Love in the Time of Money\" is...</td>\n",
       "      <td>positive</td>\n",
       "    </tr>\n",
       "  </tbody>\n",
       "</table>\n",
       "</div>"
      ],
      "text/plain": [
       "                                              review sentiment\n",
       "0  One of the other reviewers has mentioned that ...  positive\n",
       "1  A wonderful little production. <br /><br />The...  positive\n",
       "2  I thought this was a wonderful way to spend ti...  positive\n",
       "3  Basically there's a family where a little boy ...  negative\n",
       "4  Petter Mattei's \"Love in the Time of Money\" is...  positive"
      ]
     },
     "execution_count": 3,
     "metadata": {},
     "output_type": "execute_result"
    }
   ],
   "source": [
    "dataset.head()"
   ]
  },
  {
   "cell_type": "code",
   "execution_count": 4,
   "id": "2df57602-056d-48e4-aee3-844b4f659b01",
   "metadata": {},
   "outputs": [],
   "source": [
    "dataset[\"review\"] = dataset[\"review\"].astype(str)  # Convert object to string\n"
   ]
  },
  {
   "cell_type": "code",
   "execution_count": 5,
   "id": "617275df-d82f-4a8e-8359-043b1940bfbb",
   "metadata": {},
   "outputs": [],
   "source": [
    "dataset[\"review\"].replace(\"\", np.nan, inplace=True)  # Convert empty strings to NaN\n",
    "dataset[\"review\"].fillna(\"No review\", inplace=True)  # Replace NaN with a default text"
   ]
  },
  {
   "cell_type": "code",
   "execution_count": 6,
   "id": "817b4da0-b0d2-4c3f-92de-919e864d022e",
   "metadata": {},
   "outputs": [
    {
     "data": {
      "text/plain": [
       "(50000, 2)"
      ]
     },
     "execution_count": 6,
     "metadata": {},
     "output_type": "execute_result"
    }
   ],
   "source": [
    "dataset.shape"
   ]
  },
  {
   "cell_type": "code",
   "execution_count": 7,
   "id": "cdbd11e2-ba75-4dac-b9c1-7188426be86f",
   "metadata": {},
   "outputs": [
    {
     "data": {
      "text/plain": [
       "\"basically there's a family where a little boy (jake) thinks there's a zombie in his closet & his parents are fighting all the time.<br /><br />this movie is slower than a soap opera... and suddenly, jake decides to become rambo and kill the zombie.<br /><br />ok, first of all when you're going to make a film you must decide if its a thriller or a drama! as a drama the movie is watchable. parents are divorcing & arguing like in real life. and then we have jake with his closet which totally ruins all the film! i expected to see a boogeyman similar movie, and instead i watched a drama with some meaningless thriller spots.<br /><br />3 out of 10 just for the well playing parents & descent dialogs. as for the shots with jake: just ignore them.\""
      ]
     },
     "execution_count": 7,
     "metadata": {},
     "output_type": "execute_result"
    }
   ],
   "source": [
    "dataset[\"review\"][3].lower()"
   ]
  },
  {
   "cell_type": "markdown",
   "id": "3a18504b-0ab1-47c2-8460-dc7216ba6837",
   "metadata": {},
   "source": [
    "for applying in whole dataset"
   ]
  },
  {
   "cell_type": "code",
   "execution_count": 8,
   "id": "d00e46db-a19f-4229-a3cf-0c4dd98d173c",
   "metadata": {},
   "outputs": [],
   "source": [
    "dataset[\"review\"]=dataset[\"review\"].str.lower().head()"
   ]
  },
  {
   "cell_type": "code",
   "execution_count": 9,
   "id": "5e18c377-6942-4428-bb94-205ecfa0633a",
   "metadata": {},
   "outputs": [
    {
     "data": {
      "text/html": [
       "<div>\n",
       "<style scoped>\n",
       "    .dataframe tbody tr th:only-of-type {\n",
       "        vertical-align: middle;\n",
       "    }\n",
       "\n",
       "    .dataframe tbody tr th {\n",
       "        vertical-align: top;\n",
       "    }\n",
       "\n",
       "    .dataframe thead th {\n",
       "        text-align: right;\n",
       "    }\n",
       "</style>\n",
       "<table border=\"1\" class=\"dataframe\">\n",
       "  <thead>\n",
       "    <tr style=\"text-align: right;\">\n",
       "      <th></th>\n",
       "      <th>review</th>\n",
       "      <th>sentiment</th>\n",
       "    </tr>\n",
       "  </thead>\n",
       "  <tbody>\n",
       "    <tr>\n",
       "      <th>0</th>\n",
       "      <td>one of the other reviewers has mentioned that ...</td>\n",
       "      <td>positive</td>\n",
       "    </tr>\n",
       "    <tr>\n",
       "      <th>1</th>\n",
       "      <td>a wonderful little production. &lt;br /&gt;&lt;br /&gt;the...</td>\n",
       "      <td>positive</td>\n",
       "    </tr>\n",
       "  </tbody>\n",
       "</table>\n",
       "</div>"
      ],
      "text/plain": [
       "                                              review sentiment\n",
       "0  one of the other reviewers has mentioned that ...  positive\n",
       "1  a wonderful little production. <br /><br />the...  positive"
      ]
     },
     "execution_count": 9,
     "metadata": {},
     "output_type": "execute_result"
    }
   ],
   "source": [
    "dataset.head(2)"
   ]
  },
  {
   "cell_type": "markdown",
   "id": "3539d376-3697-4f49-9586-ff8d3d0125ce",
   "metadata": {},
   "source": [
    "Removing HTML Tags"
   ]
  },
  {
   "cell_type": "code",
   "execution_count": 10,
   "id": "ce268228-8ed2-4af7-98c5-9a7fe1d7fc79",
   "metadata": {},
   "outputs": [],
   "source": [
    "#This function can be found on internet\n",
    "import re\n",
    "\n",
    "def remove_html_tags(text):\n",
    "    # Ensure the text is a string\n",
    "    if isinstance(text, str):\n",
    "        pattern = re.compile(\"<.*?>\")\n",
    "        return pattern.sub(r\"\", text)\n",
    "    else:\n",
    "        return text  # return as-is if it's not a string (like NaN or float)\n"
   ]
  },
  {
   "cell_type": "code",
   "execution_count": 11,
   "id": "5420d136-7f85-452b-a401-91cf2cea9de4",
   "metadata": {},
   "outputs": [],
   "source": [
    "dataset[\"review\"]=dataset[\"review\"].apply(remove_html_tags)"
   ]
  },
  {
   "cell_type": "code",
   "execution_count": 12,
   "id": "3e8dec14-8f42-40c9-aa50-c6a19c8e2508",
   "metadata": {},
   "outputs": [
    {
     "data": {
      "text/plain": [
       "\"basically there's a family where a little boy (jake) thinks there's a zombie in his closet & his parents are fighting all the time.this movie is slower than a soap opera... and suddenly, jake decides to become rambo and kill the zombie.ok, first of all when you're going to make a film you must decide if its a thriller or a drama! as a drama the movie is watchable. parents are divorcing & arguing like in real life. and then we have jake with his closet which totally ruins all the film! i expected to see a boogeyman similar movie, and instead i watched a drama with some meaningless thriller spots.3 out of 10 just for the well playing parents & descent dialogs. as for the shots with jake: just ignore them.\""
      ]
     },
     "execution_count": 12,
     "metadata": {},
     "output_type": "execute_result"
    }
   ],
   "source": [
    "dataset[\"review\"][3]"
   ]
  },
  {
   "cell_type": "markdown",
   "id": "c831ff05-4117-4887-a163-35bcd53277a6",
   "metadata": {},
   "source": [
    "Removing Punctuation"
   ]
  },
  {
   "cell_type": "code",
   "execution_count": 13,
   "id": "9fb0089b-98ae-4ff8-886d-6a909c4cd616",
   "metadata": {},
   "outputs": [],
   "source": [
    "import string"
   ]
  },
  {
   "cell_type": "code",
   "execution_count": 14,
   "id": "e9e969ad-c79c-4247-b0da-0bb584e02bd6",
   "metadata": {},
   "outputs": [],
   "source": [
    "exclude=string.punctuation"
   ]
  },
  {
   "cell_type": "code",
   "execution_count": 15,
   "id": "7b2b3587-68c7-4999-9d9b-43fb914d1cfc",
   "metadata": {},
   "outputs": [],
   "source": [
    "def remove_punc(text):\n",
    "    for char in exclude:\n",
    "        text=text.replace(char,\"\")\n",
    "    return text"
   ]
  },
  {
   "cell_type": "code",
   "execution_count": 16,
   "id": "c3f8396a-eafd-4c82-a242-e69c12254490",
   "metadata": {},
   "outputs": [],
   "source": [
    "text=\"Hi, What is your name?\""
   ]
  },
  {
   "cell_type": "code",
   "execution_count": 17,
   "id": "b48f130d-f94d-41f9-951e-6e01270237e0",
   "metadata": {},
   "outputs": [
    {
     "data": {
      "text/plain": [
       "'Hi What is your name'"
      ]
     },
     "execution_count": 17,
     "metadata": {},
     "output_type": "execute_result"
    }
   ],
   "source": [
    "remove_punc(text)"
   ]
  },
  {
   "cell_type": "code",
   "execution_count": 18,
   "id": "fdea7241-7b7d-4166-99a3-aceb34b73e76",
   "metadata": {},
   "outputs": [],
   "source": [
    "#The way upp is very slow so we use another method which is faster\n",
    "def remove_punc1(text):\n",
    "    exclude = string.punctuation  # Punctuation to remove\n",
    "    return str(text).translate(str.maketrans(\"\", \"\", exclude))"
   ]
  },
  {
   "cell_type": "code",
   "execution_count": 19,
   "id": "603d9c86-aad3-4414-975b-33f70649f7f6",
   "metadata": {},
   "outputs": [
    {
     "data": {
      "text/plain": [
       "'Hi What is your name'"
      ]
     },
     "execution_count": 19,
     "metadata": {},
     "output_type": "execute_result"
    }
   ],
   "source": [
    "remove_punc1(text)"
   ]
  },
  {
   "cell_type": "code",
   "execution_count": 20,
   "id": "090e1ad4-2431-46b2-93d5-8e9c1b5e8d5d",
   "metadata": {},
   "outputs": [
    {
     "data": {
      "text/plain": [
       "0        one of the other reviewers has mentioned that ...\n",
       "1        a wonderful little production the filming tech...\n",
       "2        i thought this was a wonderful way to spend ti...\n",
       "3        basically theres a family where a little boy j...\n",
       "4        petter matteis love in the time of money is a ...\n",
       "                               ...                        \n",
       "49995                                                  nan\n",
       "49996                                                  nan\n",
       "49997                                                  nan\n",
       "49998                                                  nan\n",
       "49999                                                  nan\n",
       "Name: review, Length: 50000, dtype: object"
      ]
     },
     "execution_count": 20,
     "metadata": {},
     "output_type": "execute_result"
    }
   ],
   "source": [
    "#now in dataset\n",
    "dataset[\"review\"].apply(remove_punc1)"
   ]
  },
  {
   "cell_type": "code",
   "execution_count": 21,
   "id": "7b2b6973-9bb7-4b09-89c0-bb56543de17a",
   "metadata": {},
   "outputs": [
    {
     "data": {
      "text/plain": [
       "\"basically there's a family where a little boy (jake) thinks there's a zombie in his closet & his parents are fighting all the time.this movie is slower than a soap opera... and suddenly, jake decides to become rambo and kill the zombie.ok, first of all when you're going to make a film you must decide if its a thriller or a drama! as a drama the movie is watchable. parents are divorcing & arguing like in real life. and then we have jake with his closet which totally ruins all the film! i expected to see a boogeyman similar movie, and instead i watched a drama with some meaningless thriller spots.3 out of 10 just for the well playing parents & descent dialogs. as for the shots with jake: just ignore them.\""
      ]
     },
     "execution_count": 21,
     "metadata": {},
     "output_type": "execute_result"
    }
   ],
   "source": [
    "dataset[\"review\"][3]"
   ]
  },
  {
   "cell_type": "markdown",
   "id": "66752d09-b19e-4abc-b214-ce9486280900",
   "metadata": {},
   "source": [
    "Removing stop words"
   ]
  },
  {
   "cell_type": "code",
   "execution_count": 22,
   "id": "d3970d62-418e-48b5-8e89-6903a6537bc0",
   "metadata": {},
   "outputs": [],
   "source": [
    "from nltk.corpus import stopwords"
   ]
  },
  {
   "cell_type": "code",
   "execution_count": 23,
   "id": "5b666fbb-a2b4-4775-b61f-eeba883f5d8d",
   "metadata": {},
   "outputs": [],
   "source": [
    "stop_words=stopwords.words(\"english\")"
   ]
  },
  {
   "cell_type": "code",
   "execution_count": 24,
   "id": "e3131b60-9949-4145-960f-a516c0fda7b7",
   "metadata": {},
   "outputs": [],
   "source": [
    "def remove_stopwords(text):\n",
    "   \n",
    "    clear_text=[]\n",
    "    impure_text=[]\n",
    "    if not isinstance(text, str):  # Check if text is not a string\n",
    "        return text  # Return the original value (useful for NaNs or numbers)\n",
    "\n",
    "    for word in text.split():\n",
    "        if word not in stop_words:\n",
    "            clear_text.append(word)\n",
    "        else:\n",
    "            impure_text.append(word)\n",
    "    return clear_text"
   ]
  },
  {
   "cell_type": "code",
   "execution_count": 25,
   "id": "7c78e34d-b03c-48f3-898e-4e42c6919e95",
   "metadata": {},
   "outputs": [
    {
     "data": {
      "text/plain": [
       "['politics']"
      ]
     },
     "execution_count": 25,
     "metadata": {},
     "output_type": "execute_result"
    }
   ],
   "source": [
    "x=\"a the politics\"\n",
    "remove_stopwords(x)"
   ]
  },
  {
   "cell_type": "code",
   "execution_count": 26,
   "id": "35838fd4-6cd9-4ca8-b997-7be9b275ae17",
   "metadata": {},
   "outputs": [
    {
     "data": {
      "text/plain": [
       "0        [one, reviewers, mentioned, watching, 1, oz, e...\n",
       "1        [wonderful, little, production., filming, tech...\n",
       "2        [thought, wonderful, way, spend, time, hot, su...\n",
       "3        [basically, there's, family, little, boy, (jak...\n",
       "4        [petter, mattei's, \"love, time, money\", visual...\n",
       "                               ...                        \n",
       "49995                                                  NaN\n",
       "49996                                                  NaN\n",
       "49997                                                  NaN\n",
       "49998                                                  NaN\n",
       "49999                                                  NaN\n",
       "Name: review, Length: 50000, dtype: object"
      ]
     },
     "execution_count": 26,
     "metadata": {},
     "output_type": "execute_result"
    }
   ],
   "source": [
    "dataset[\"review\"].apply(remove_stopwords)"
   ]
  },
  {
   "cell_type": "markdown",
   "id": "9294a441-abb2-4fd6-940b-7a69190b51c2",
   "metadata": {},
   "source": [
    "Tokenization"
   ]
  },
  {
   "cell_type": "code",
   "execution_count": 27,
   "id": "6b7b8dc2-53b8-4204-b004-bb4f20b2856b",
   "metadata": {},
   "outputs": [],
   "source": [
    "from nltk.tokenize import word_tokenize"
   ]
  },
  {
   "cell_type": "code",
   "execution_count": 28,
   "id": "5136a227-e8bf-44d2-ac8a-4899f773dab0",
   "metadata": {},
   "outputs": [],
   "source": [
    "def tokenize(text):\n",
    "    if pd.isna(text):  # Check if text is NaN or None\n",
    "        return []  # Return an empty list instead of processing NaN\n",
    "    if not isinstance(text, str):  # Check if text is not a string\n",
    "        return word_tokenize(text)  # Return the original value (useful for NaNs or numbers)\n",
    "    for word in text:\n",
    "        if word in text:\n",
    "            return word_tokenize(text)\n",
    "        else:\n",
    "            return text\n",
    "\n",
    "     # Return the original value (useful for NaNs or numbers)\n",
    "    \n"
   ]
  },
  {
   "cell_type": "code",
   "execution_count": 29,
   "id": "07bcbadf-1c3e-45a9-8f9c-ec55a307483d",
   "metadata": {},
   "outputs": [
    {
     "data": {
      "text/plain": [
       "['I', 'am', 'a', 'human', 'being']"
      ]
     },
     "execution_count": 29,
     "metadata": {},
     "output_type": "execute_result"
    }
   ],
   "source": [
    "tokenize(\"I am a human being\")"
   ]
  },
  {
   "cell_type": "code",
   "execution_count": 30,
   "id": "8e78c8d5-f315-4118-ad25-c0a118c82a45",
   "metadata": {},
   "outputs": [
    {
     "data": {
      "text/plain": [
       "0        [one, of, the, other, reviewers, has, mentione...\n",
       "1        [a, wonderful, little, production, ., the, fil...\n",
       "2        [i, thought, this, was, a, wonderful, way, to,...\n",
       "3        [basically, there, 's, a, family, where, a, li...\n",
       "4        [petter, mattei, 's, ``, love, in, the, time, ...\n",
       "                               ...                        \n",
       "49995                                                   []\n",
       "49996                                                   []\n",
       "49997                                                   []\n",
       "49998                                                   []\n",
       "49999                                                   []\n",
       "Name: review, Length: 50000, dtype: object"
      ]
     },
     "execution_count": 30,
     "metadata": {},
     "output_type": "execute_result"
    }
   ],
   "source": [
    "dataset[\"review\"].apply(tokenize)"
   ]
  },
  {
   "cell_type": "code",
   "execution_count": null,
   "id": "2a53df11-a611-44aa-b5f7-b8c530622f1d",
   "metadata": {},
   "outputs": [],
   "source": []
  }
 ],
 "metadata": {
  "kernelspec": {
   "display_name": "Python 3 (ipykernel)",
   "language": "python",
   "name": "python3"
  },
  "language_info": {
   "codemirror_mode": {
    "name": "ipython",
    "version": 3
   },
   "file_extension": ".py",
   "mimetype": "text/x-python",
   "name": "python",
   "nbconvert_exporter": "python",
   "pygments_lexer": "ipython3",
   "version": "3.11.7"
  }
 },
 "nbformat": 4,
 "nbformat_minor": 5
}
